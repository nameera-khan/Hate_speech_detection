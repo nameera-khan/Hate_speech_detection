{
 "cells": [
  {
   "cell_type": "markdown",
   "id": "bb17375b",
   "metadata": {},
   "source": [
    "# Model-2 Testing \n"
   ]
  },
  {
   "cell_type": "markdown",
   "id": "dc49192c",
   "metadata": {},
   "source": [
    "The aim of this notebook is to test Model-2 against the original test datasets chosen to evaluate this model, namely; Gab, Reddit, Twitter. This notebook does provide test results to Gab_reddit_test dataset to differentiate performances. Here, the model class is defined under the monomer of baseRoberta. The class is identitical to that of the Model-2 fine-tuning notebook. The saved model is loaded into the file using torch.load from the file path. This notebook finally demonstrates the comparison ROC-AUC curves and a confusion matrix for the Gab_reddit dataset. "
   ]
  },
  {
   "attachments": {},
   "cell_type": "markdown",
   "id": "4a3da7d7",
   "metadata": {},
   "source": [
    "## Part 1: Data Preparation\n",
    "- Loading data to fine-tune using Huggingface's load_dataset module\n",
    "- Loading Gab, Reddit and Twitter datasets using load_dataset module\n",
    "\n",
    "## Part 2: Load tokenizer\n",
    "- Load the tokenizer for the chosen model\n",
    "- Tokenize the text in 'Content' of the dataset\n",
    "- Use data collator from Huggingface to batch texts of similar lengths\n",
    "\n",
    "## Part 3: Model class definition\n",
    "- Load the tokenizer for the chosen model\n",
    "- Definition of the model with the pre-trained layer, Bidirectional LSTM and CNN layer to generate the necessary classified output\n",
    "- Loading saved model into the cuda device\n",
    "\n",
    "## Part 3: Gab test\n",
    "- Preparation of the dataset to tensor\n",
    "- Tokenize the text in 'Content' of the dataset\n",
    "- Use data collator from Huggingface to batch texts of similar lengths\n",
    "- Creation of dataloaders for test with a maximum length of 75 (i.e,) the token length in the dataset\n",
    "- Setting of the metrics required to evaluate model performance\n",
    "- Testing the model on the dataset\n",
    "- Evaluation of the metrics by optaining 'Confusion matrix'\n",
    "- Subset the misclassified data\n",
    "- Creating word cloud to visualise the words appearing in misclassified data\n",
    "- Plotting the ROC-AUC\n",
    "\n",
    "## Part 4: Reddit Test\n",
    "- Preparation of the dataset to tensor\n",
    "- Tokenize the text in 'Content' of the dataset\n",
    "- Use data collator from Huggingface to batch texts of similar lengths\n",
    "- Creation of dataloaders for test with a maximum length of 30 (i.e,) the token length in the dataset\n",
    "- Setting of the metrics required to evaluate model performance\n",
    "- Testing the model on the dataset\n",
    "- Evaluation of the metrics by optaining 'Confusion matrix'\n",
    "- Subset the misclassified data\n",
    "- Creating word cloud to visualise the words appearing in misclassified data\n",
    "- Plotting the ROC-AUC\n",
    "\n",
    "## Part 5: Twitter Test\n",
    "\n",
    "- Preparation of the dataset to tensor\n",
    "- Tokenize the text in 'Content' of the dataset\n",
    "- Use data collator from Huggingface to batch texts of similar lengths\n",
    "- Creation of dataloaders for test with a maximum length of 120 (i.e,) the token length in the dataset\n",
    "- Setting of the metrics required to evaluate model performance\n",
    "- Testing the model on the dataset\n",
    "- Evaluation of the metrics by optaining 'Confusion matrix'\n",
    "- Plotting the ROC-AUC\n",
    "\n",
    "## Part 6: Comparison\n",
    "\n",
    "- Plotting of a comparison ROC-AUC for Gab, Reddit and Twitter\n",
    "\n",
    "## Part 7: Gab_reddit Test\n",
    "\n",
    "- Preparation of the dataset to tensor\n",
    "- Tokenize the text in 'Content' of the dataset\n",
    "- Use data collator from Huggingface to batch texts of similar lengths\n",
    "- Creation of dataloaders for test with a maximum length of 100 (i.e,) the token length in the dataset\n",
    "- Setting of the metrics required to evaluate model performance\n",
    "- Testing the model on the dataset\n",
    "- Evaluation of the metrics by optaining 'Confusion matrix'\n"
   ]
  },
  {
   "cell_type": "markdown",
   "id": "6c452870",
   "metadata": {},
   "source": [
    "## Data preparation"
   ]
  },
  {
   "cell_type": "code",
   "execution_count": 1,
   "id": "f5efd8f4",
   "metadata": {},
   "outputs": [],
   "source": [
    "#import necessary modules \n",
    "from datasets import load_dataset,Dataset,DatasetDict\n",
    "from transformers import DataCollatorWithPadding,AutoModelForSequenceClassification, Trainer, TrainingArguments,AutoTokenizer,AutoModel,AutoConfig\n",
    "from transformers.modeling_outputs import TokenClassifierOutput\n",
    "import torch\n",
    "import torch.nn as nn\n",
    "import pandas as pd"
   ]
  },
  {
   "cell_type": "code",
   "execution_count": 2,
   "id": "bf487029",
   "metadata": {},
   "outputs": [
    {
     "name": "stdout",
     "output_type": "stream",
     "text": [
      "Downloading and preparing dataset csv/default to /home/ec22022/.cache/huggingface/datasets/csv/default-298825c181b1e235/0.0.0/eea64c71ca8b46dd3f537ed218fc9bf495d5707789152eb2764f5c78fa66d59d...\n"
     ]
    },
    {
     "data": {
      "application/vnd.jupyter.widget-view+json": {
       "model_id": "c59a0a8e0c314c89be0ef3854e8d836e",
       "version_major": 2,
       "version_minor": 0
      },
      "text/plain": [
       "Downloading data files:   0%|          | 0/1 [00:00<?, ?it/s]"
      ]
     },
     "metadata": {},
     "output_type": "display_data"
    },
    {
     "data": {
      "application/vnd.jupyter.widget-view+json": {
       "model_id": "0f5a6c0fccfe4135a6ab1873cb799b43",
       "version_major": 2,
       "version_minor": 0
      },
      "text/plain": [
       "Extracting data files:   0%|          | 0/1 [00:00<?, ?it/s]"
      ]
     },
     "metadata": {},
     "output_type": "display_data"
    },
    {
     "data": {
      "application/vnd.jupyter.widget-view+json": {
       "model_id": "",
       "version_major": 2,
       "version_minor": 0
      },
      "text/plain": [
       "Generating train split: 0 examples [00:00, ? examples/s]"
      ]
     },
     "metadata": {},
     "output_type": "display_data"
    },
    {
     "name": "stdout",
     "output_type": "stream",
     "text": [
      "Dataset csv downloaded and prepared to /home/ec22022/.cache/huggingface/datasets/csv/default-298825c181b1e235/0.0.0/eea64c71ca8b46dd3f537ed218fc9bf495d5707789152eb2764f5c78fa66d59d. Subsequent calls will reuse this data.\n"
     ]
    },
    {
     "data": {
      "application/vnd.jupyter.widget-view+json": {
       "model_id": "5b3ba4e85c6442edbbb68741432387bb",
       "version_major": 2,
       "version_minor": 0
      },
      "text/plain": [
       "  0%|          | 0/1 [00:00<?, ?it/s]"
      ]
     },
     "metadata": {},
     "output_type": "display_data"
    },
    {
     "name": "stdout",
     "output_type": "stream",
     "text": [
      "Downloading and preparing dataset csv/default to /home/ec22022/.cache/huggingface/datasets/csv/default-e8c4a48c0977570c/0.0.0/eea64c71ca8b46dd3f537ed218fc9bf495d5707789152eb2764f5c78fa66d59d...\n"
     ]
    },
    {
     "data": {
      "application/vnd.jupyter.widget-view+json": {
       "model_id": "779d4da5cbbb4d67b48f9c48e74cdce6",
       "version_major": 2,
       "version_minor": 0
      },
      "text/plain": [
       "Downloading data files:   0%|          | 0/1 [00:00<?, ?it/s]"
      ]
     },
     "metadata": {},
     "output_type": "display_data"
    },
    {
     "data": {
      "application/vnd.jupyter.widget-view+json": {
       "model_id": "9af74b9189164805beb52000980306d8",
       "version_major": 2,
       "version_minor": 0
      },
      "text/plain": [
       "Extracting data files:   0%|          | 0/1 [00:00<?, ?it/s]"
      ]
     },
     "metadata": {},
     "output_type": "display_data"
    },
    {
     "data": {
      "application/vnd.jupyter.widget-view+json": {
       "model_id": "",
       "version_major": 2,
       "version_minor": 0
      },
      "text/plain": [
       "Generating train split: 0 examples [00:00, ? examples/s]"
      ]
     },
     "metadata": {},
     "output_type": "display_data"
    },
    {
     "name": "stdout",
     "output_type": "stream",
     "text": [
      "Dataset csv downloaded and prepared to /home/ec22022/.cache/huggingface/datasets/csv/default-e8c4a48c0977570c/0.0.0/eea64c71ca8b46dd3f537ed218fc9bf495d5707789152eb2764f5c78fa66d59d. Subsequent calls will reuse this data.\n"
     ]
    },
    {
     "data": {
      "application/vnd.jupyter.widget-view+json": {
       "model_id": "a6dda4e9dba14f43a91ab5b0397c94af",
       "version_major": 2,
       "version_minor": 0
      },
      "text/plain": [
       "  0%|          | 0/1 [00:01<?, ?it/s]"
      ]
     },
     "metadata": {},
     "output_type": "display_data"
    },
    {
     "name": "stderr",
     "output_type": "stream",
     "text": [
      "Found cached dataset csv (/home/ec22022/.cache/huggingface/datasets/csv/default-b0e14e99ae8be3bb/0.0.0/eea64c71ca8b46dd3f537ed218fc9bf495d5707789152eb2764f5c78fa66d59d)\n"
     ]
    },
    {
     "data": {
      "application/vnd.jupyter.widget-view+json": {
       "model_id": "b8a0a632eed14b31b8c0bed1c02f5639",
       "version_major": 2,
       "version_minor": 0
      },
      "text/plain": [
       "  0%|          | 0/1 [00:00<?, ?it/s]"
      ]
     },
     "metadata": {},
     "output_type": "display_data"
    }
   ],
   "source": [
    "#upload necessary datasets\n",
    "gab = load_dataset('csv',data_files='gab_again2.csv') \n",
    "reddit = load_dataset('csv',data_files='cleaned_reddit4.csv')\n",
    "twitter = load_dataset('csv',data_files='cleaned_tweets01.csv')"
   ]
  },
  {
   "cell_type": "markdown",
   "id": "b40df7d7",
   "metadata": {},
   "source": [
    "## Model definition "
   ]
  },
  {
   "cell_type": "code",
   "execution_count": 2,
   "id": "6d15c336",
   "metadata": {},
   "outputs": [],
   "source": [
    "#downloading the model's checkpoint from huggingface \n",
    "checkpoint = \"cardiffnlp/twitter-roberta-base-hate-latest\"\n",
    "tokenizer = AutoTokenizer.from_pretrained(checkpoint)\n",
    "tokenizer.model_max_len=512"
   ]
  },
  {
   "cell_type": "code",
   "execution_count": 3,
   "id": "0107d265",
   "metadata": {},
   "outputs": [],
   "source": [
    "#define the class \n",
    "class baseRoberta(nn.Module):\n",
    "  def __init__(self,checkpoint,num_labels):\n",
    "    super(baseRoberta,self).__init__()\n",
    "    self.num_labels = num_labels\n",
    "\n",
    "    #Load Model with given checkpoint and extract its body\n",
    "    self.model = model = AutoModel.from_pretrained(checkpoint,config=AutoConfig.from_pretrained(checkpoint, output_attentions=True,output_hidden_states=True))\n",
    "    self.dropout = nn.Dropout(0.1)\n",
    "    self.classifier = nn.Linear(768,num_labels) # load and initialize weights\n",
    "\n",
    "  def forward(self, input_ids=None, attention_mask=None,Label=None):\n",
    "    #Extract outputs from the body\n",
    "    outputs = self.model(input_ids=input_ids, attention_mask=attention_mask)\n",
    "\n",
    "    #Add custom layers\n",
    "    sequence_output = self.dropout(outputs[0]) #outputs[0]=last hidden state\n",
    "\n",
    "    logits = self.classifier(sequence_output[:,0,:].view(-1,768)) # calculate losses\n",
    "\n",
    "    loss = None\n",
    "    if Label is not None:\n",
    "      loss_fct = nn.CrossEntropyLoss()\n",
    "      loss = loss_fct(logits.view(-1, self.num_labels), Label.view(-1))\n",
    "\n",
    "    return TokenClassifierOutput(loss=loss, logits=logits, hidden_states=outputs.hidden_states,attentions=outputs.attentions)"
   ]
  },
  {
   "cell_type": "code",
   "execution_count": 4,
   "id": "6d18e1df",
   "metadata": {},
   "outputs": [
    {
     "name": "stderr",
     "output_type": "stream",
     "text": [
      "Some weights of the model checkpoint at cardiffnlp/twitter-roberta-base-hate-latest were not used when initializing RobertaModel: ['classifier.out_proj.bias', 'classifier.out_proj.weight', 'classifier.dense.bias', 'classifier.dense.weight']\n",
      "- This IS expected if you are initializing RobertaModel from the checkpoint of a model trained on another task or with another architecture (e.g. initializing a BertForSequenceClassification model from a BertForPreTraining model).\n",
      "- This IS NOT expected if you are initializing RobertaModel from the checkpoint of a model that you expect to be exactly identical (initializing a BertForSequenceClassification model from a BertForSequenceClassification model).\n",
      "Some weights of RobertaModel were not initialized from the model checkpoint at cardiffnlp/twitter-roberta-base-hate-latest and are newly initialized: ['roberta.pooler.dense.weight', 'roberta.pooler.dense.bias']\n",
      "You should probably TRAIN this model on a down-stream task to be able to use it for predictions and inference.\n"
     ]
    }
   ],
   "source": [
    "device = torch.device(\"cuda\" if torch.cuda.is_available() else \"cpu\")\n",
    "model=baseRoberta(checkpoint=checkpoint,num_labels=2).to(device)"
   ]
  },
  {
   "cell_type": "code",
   "execution_count": 5,
   "id": "6606471a",
   "metadata": {},
   "outputs": [
    {
     "data": {
      "text/plain": [
       "<All keys matched successfully>"
      ]
     },
     "execution_count": 5,
     "metadata": {},
     "output_type": "execute_result"
    }
   ],
   "source": [
    "model.load_state_dict(torch.load('model_weights.pt'))"
   ]
  },
  {
   "cell_type": "markdown",
   "id": "7cfeb554",
   "metadata": {},
   "source": [
    "## Gab Test"
   ]
  },
  {
   "cell_type": "code",
   "execution_count": 7,
   "id": "80f883d3",
   "metadata": {},
   "outputs": [],
   "source": [
    "import matplotlib.pyplot as plt "
   ]
  },
  {
   "cell_type": "code",
   "execution_count": 8,
   "id": "0a1982c5",
   "metadata": {},
   "outputs": [],
   "source": [
    "df_g = pd.read_csv('gab_again2.csv')\n"
   ]
  },
  {
   "cell_type": "code",
   "execution_count": 9,
   "id": "bf15458d",
   "metadata": {},
   "outputs": [
    {
     "name": "stdout",
     "output_type": "stream",
     "text": [
      "<class 'pandas.core.frame.DataFrame'>\n",
      "RangeIndex: 3007 entries, 0 to 3006\n",
      "Data columns (total 3 columns):\n",
      " #   Column      Non-Null Count  Dtype \n",
      "---  ------      --------------  ----- \n",
      " 0   Unnamed: 0  3007 non-null   int64 \n",
      " 1   Content     3007 non-null   object\n",
      " 2   Label       3007 non-null   int64 \n",
      "dtypes: int64(2), object(1)\n",
      "memory usage: 70.6+ KB\n"
     ]
    }
   ],
   "source": [
    "df_g.dropna(inplace=True)\n",
    "df_g['Content'] = df_g['Content'].astype('str')\n",
    "df_g.info()"
   ]
  },
  {
   "cell_type": "code",
   "execution_count": 10,
   "id": "0982dfb0",
   "metadata": {},
   "outputs": [],
   "source": [
    "df_g['Content'] = df_g['Content'].astype(str)\n"
   ]
  },
  {
   "cell_type": "code",
   "execution_count": 11,
   "id": "6c202ac9",
   "metadata": {},
   "outputs": [
    {
     "name": "stdout",
     "output_type": "stream",
     "text": [
      "<class 'pandas.core.frame.DataFrame'>\n",
      "RangeIndex: 3007 entries, 0 to 3006\n",
      "Data columns (total 3 columns):\n",
      " #   Column      Non-Null Count  Dtype \n",
      "---  ------      --------------  ----- \n",
      " 0   Unnamed: 0  3007 non-null   int64 \n",
      " 1   Content     3007 non-null   object\n",
      " 2   Label       3007 non-null   int64 \n",
      "dtypes: int64(2), object(1)\n",
      "memory usage: 70.6+ KB\n"
     ]
    }
   ],
   "source": [
    "df_g.info()"
   ]
  },
  {
   "cell_type": "code",
   "execution_count": 16,
   "id": "f9187339",
   "metadata": {},
   "outputs": [
    {
     "data": {
      "text/plain": [
       "<Axes: >"
      ]
     },
     "execution_count": 16,
     "metadata": {},
     "output_type": "execute_result"
    },
    {
     "data": {
      "image/png": "[encoded data removed]",
      "text/plain": [
       "<Figure size 640x480 with 1 Axes>"
      ]
     },
     "metadata": {},
     "output_type": "display_data"
    }
   ],
   "source": [
    "seq_len = [len(i.split()) for i in df_g['Content']]\n",
    "\n",
    "pd.Series(seq_len).hist(bins = 30)\n",
    "     "
   ]
  },
  {
   "cell_type": "code",
   "execution_count": 14,
   "id": "b5b6998a",
   "metadata": {},
   "outputs": [
    {
     "data": {
      "text/plain": [
       "DatasetDict({\n",
       "    test: Dataset({\n",
       "        features: ['Unnamed: 0', 'Content', 'Label'],\n",
       "        num_rows: 3007\n",
       "    })\n",
       "})"
      ]
     },
     "execution_count": 14,
     "metadata": {},
     "output_type": "execute_result"
    }
   ],
   "source": [
    "#setting format \n",
    "gab.set_format('pandas')\n",
    "gab=gab['train'][:]\n",
    "gab=Dataset.from_pandas(gab)\n",
    "gab = DatasetDict({'test':gab})\n",
    "gab"
   ]
  },
  {
   "cell_type": "code",
   "execution_count": 15,
   "id": "77dc8fad",
   "metadata": {},
   "outputs": [
    {
     "data": {
      "text/plain": [
       "DatasetDict({\n",
       "    test: Dataset({\n",
       "        features: ['Content', 'Label'],\n",
       "        num_rows: 3007\n",
       "    })\n",
       "})"
      ]
     },
     "execution_count": 15,
     "metadata": {},
     "output_type": "execute_result"
    }
   ],
   "source": [
    "gab = gab.remove_columns('Unnamed: 0')\n",
    "gab"
   ]
  },
  {
   "cell_type": "code",
   "execution_count": 7,
   "id": "c86262fe",
   "metadata": {},
   "outputs": [],
   "source": [
    "def tokenize(batch):\n",
    "    return tokenizer(batch[\"Content\"], truncation=True,max_length=max_length)\n",
    "\n"
   ]
  },
  {
   "cell_type": "code",
   "execution_count": 6,
   "id": "be51d368",
   "metadata": {},
   "outputs": [],
   "source": [
    "def delete_null_rows(dataset_dict):\n",
    "    for key, dataset in dataset_dict.items():\n",
    "        null_indices = [idx for idx, row in enumerate(dataset) if any(value is None for value in row.values())]\n",
    "        dataset = dataset.select([i for i in range(len(dataset)) if i not in null_indices])\n",
    "        dataset_dict[key] = dataset\n",
    "    return dataset_dict\n",
    "\n",
    "delete_null_rows(gab)#delete missing data rows"
   ]
  },
  {
   "cell_type": "code",
   "execution_count": 19,
   "id": "28efe5e9",
   "metadata": {},
   "outputs": [
    {
     "data": {
      "application/vnd.jupyter.widget-view+json": {
       "model_id": "",
       "version_major": 2,
       "version_minor": 0
      },
      "text/plain": [
       "Map:   0%|          | 0/3007 [00:00<?, ? examples/s]"
      ]
     },
     "metadata": {},
     "output_type": "display_data"
    },
    {
     "data": {
      "text/plain": [
       "DatasetDict({\n",
       "    test: Dataset({\n",
       "        features: ['Content', 'Label', 'input_ids', 'attention_mask'],\n",
       "        num_rows: 3007\n",
       "    })\n",
       "})"
      ]
     },
     "execution_count": 19,
     "metadata": {},
     "output_type": "execute_result"
    }
   ],
   "source": [
    "max_length = 75\n",
    "tokenized_gab = gab.map(tokenize, batched=True) #map the tokenize function to the texts in Content\n",
    "tokenized_gab"
   ]
  },
  {
   "cell_type": "code",
   "execution_count": 8,
   "id": "59848dc2",
   "metadata": {},
   "outputs": [],
   "source": [
    "from torch.utils.data import DataLoader\n",
    "data_collator = DataCollatorWithPadding(tokenizer=tokenizer) #instantiate data collator with tokenizer as parameter"
   ]
  },
  {
   "cell_type": "code",
   "execution_count": 21,
   "id": "627e76ac",
   "metadata": {},
   "outputs": [],
   "source": [
    "tokenized_gab.set_format(\"torch\",columns=[\"input_ids\", \"attention_mask\", \"Label\"])\n",
    "gab_dataloader = DataLoader(\n",
    "    tokenized_gab[\"test\"], batch_size=16, collate_fn=data_collator\n",
    ") #load data into data loader for test loop"
   ]
  },
  {
   "cell_type": "code",
   "execution_count": 9,
   "id": "1bc9d350",
   "metadata": {},
   "outputs": [
    {
     "name": "stderr",
     "output_type": "stream",
     "text": [
      "/tmp/ipykernel_1492578/256772457.py:2: FutureWarning: load_metric is deprecated and will be removed in the next major version of datasets. Use 'evaluate.load' instead, from the new library 🤗 Evaluate: https://huggingface.co/docs/evaluate\n",
      "  metric1 = load_metric(\"f1\")\n"
     ]
    }
   ],
   "source": [
    "from datasets import load_metric\n",
    "metric1 = load_metric(\"f1\")\n",
    "metric2 = load_metric(\"accuracy\")\n",
    "metric3 = load_metric(\"precision\")"
   ]
  },
  {
   "cell_type": "code",
   "execution_count": 10,
   "id": "d4ee4df1",
   "metadata": {},
   "outputs": [],
   "source": [
    "from tqdm.auto import tqdm\n"
   ]
  },
  {
   "cell_type": "code",
   "execution_count": 24,
   "id": "451284b2",
   "metadata": {
    "scrolled": true
   },
   "outputs": [
    {
     "data": {
      "application/vnd.jupyter.widget-view+json": {
       "model_id": "32e19d34299340c681dfb60179d9d879",
       "version_major": 2,
       "version_minor": 0
      },
      "text/plain": [
       "  0%|          | 0/188 [00:00<?, ?it/s]"
      ]
     },
     "metadata": {},
     "output_type": "display_data"
    },
    {
     "name": "stderr",
     "output_type": "stream",
     "text": [
      "You're using a RobertaTokenizerFast tokenizer. Please note that with a fast tokenizer, using the `__call__` method is faster than using a method to encode the text followed by a call to the `pad` method to get a padded encoding.\n"
     ]
    },
    {
     "name": "stdout",
     "output_type": "stream",
     "text": [
      "{'f1': 0.2803180914512922}\n",
      "{'accuracy': 0.759228466910542}\n",
      "{'precision': 0.17825537294563842}\n"
     ]
    }
   ],
   "source": [
    "model.eval() #to evaluate the model for th given dataset\n",
    "\n",
    "\n",
    "progress_bar_eval = tqdm(range(1 * len(gab_dataloader)))\n",
    "\n",
    "\n",
    "for batch in gab_dataloader:\n",
    "    batch = {k: v.to(device) for k, v in batch.items()}\n",
    "    with torch.no_grad():\n",
    "        outputs = model(**batch)\n",
    "\n",
    "    logits = outputs.logits\n",
    "    predictions_gab = torch.argmax(logits, dim=-1)\n",
    "    metric1.add_batch(predictions=predictions_gab, references=batch[\"Label\"])\n",
    "    metric2.add_batch(predictions=predictions_gab, references=batch[\"Label\"])\n",
    "    metric3.add_batch(predictions=predictions_gab, references=batch[\"Label\"])\n",
    "    progress_bar_eval.update(1)\n",
    "\n",
    "print(metric1.compute())\n",
    "print(metric2.compute())\n",
    "print(metric3.compute())"
   ]
  },
  {
   "cell_type": "code",
   "execution_count": 17,
   "id": "dbc0fdbd",
   "metadata": {},
   "outputs": [],
   "source": [
    "import numpy as np\n",
    "from sklearn.metrics import roc_curve, roc_auc_score, auc\n",
    "from sklearn.metrics import confusion_matrix\n"
   ]
  },
  {
   "cell_type": "code",
   "execution_count": 28,
   "id": "6a27d29c",
   "metadata": {},
   "outputs": [],
   "source": [
    "gab_predictions=[]\n",
    "gab_true_labels=[]\n",
    "\n",
    "model.eval() #to print confusion matrix \n",
    "with torch.no_grad():\n",
    "    for batch in gab_dataloader:\n",
    "        batch = {k: v.to(device) for k, v in batch.items()}\n",
    "        outputs = model(**batch)\n",
    "\n",
    "        logits = outputs.logits\n",
    "        predictions_g = torch.argmax(logits, dim=-1)\n",
    "        true_labels = batch[\"Label\"]\n",
    "\n",
    "        gab_predictions.extend(predictions_g.cpu().numpy())\n",
    "        gab_true_labels.extend(true_labels.cpu().numpy())\n",
    "        #progress_bar_eval = tqdm(range(1 * len(twitter_dataloader)))\n",
    "\n",
    "\n",
    "# Convert the lists to NumPy arrays\n",
    "gab_predictions = np.array(gab_predictions)\n",
    "gab_true_labels = np.array(gab_true_labels)"
   ]
  },
  {
   "cell_type": "code",
   "execution_count": 29,
   "id": "4248e589",
   "metadata": {},
   "outputs": [],
   "source": [
    "confusion_matrix_result = confusion_matrix(gab_true_labels, gab_predictions)"
   ]
  },
  {
   "cell_type": "code",
   "execution_count": 30,
   "id": "6263ed71",
   "metadata": {},
   "outputs": [
    {
     "name": "stdout",
     "output_type": "stream",
     "text": [
      "              Pred no_hate  Pred hate\n",
      "True no_hate          2142        650\n",
      "True hate               74        141\n"
     ]
    }
   ],
   "source": [
    "#print confusion matrix \n",
    "confusion_matrix_df = pd.DataFrame(confusion_matrix_result, index=[\"True no_hate\", \"True hate\"], columns=[\"Pred no_hate\", \"Pred hate\"])\n",
    "print(confusion_matrix_df)"
   ]
  },
  {
   "cell_type": "code",
   "execution_count": 31,
   "id": "a33a939a",
   "metadata": {},
   "outputs": [
    {
     "data": {
      "image/png": "[encoded data removed]",
      "text/plain": [
       "<Figure size 640x480 with 1 Axes>"
      ]
     },
     "metadata": {},
     "output_type": "display_data"
    }
   ],
   "source": [
    "fpr_g, tpr_g, thresholds = roc_curve(gab_true_labels, gab_predictions)\n",
    "roc_auc_gab = roc_auc_score(gab_true_labels, gab_predictions)\n",
    "\n",
    "# Plot the ROC curve\n",
    "plt.figure()\n",
    "plt.plot(fpr_g, tpr_g, color='darkorange', lw=2, label='ROC curve (area = %0.2f)' % roc_auc_gab)\n",
    "plt.plot([0, 1], [0, 1], color='navy', lw=2, linestyle='--')\n",
    "plt.xlim([0.0, 1.0])\n",
    "plt.ylim([0.0, 1.05])\n",
    "plt.xlabel('False Positive Rate')\n",
    "plt.ylabel('True Positive Rate')\n",
    "plt.title('Receiver Operating Characteristic (ROC) Curve- Gab')\n",
    "plt.legend(loc='lower right')\n",
    "plt.show()"
   ]
  },
  {
   "cell_type": "markdown",
   "id": "e4673475",
   "metadata": {},
   "source": [
    "## Reddit test  \n",
    "\n",
    "Repeat the steps taken in Gab "
   ]
  },
  {
   "cell_type": "code",
   "execution_count": 32,
   "id": "c6b6e93a",
   "metadata": {},
   "outputs": [
    {
     "data": {
      "text/plain": [
       "DatasetDict({\n",
       "    test: Dataset({\n",
       "        features: ['Unnamed: 0', 'Content', 'Label'],\n",
       "        num_rows: 2117\n",
       "    })\n",
       "})"
      ]
     },
     "execution_count": 32,
     "metadata": {},
     "output_type": "execute_result"
    }
   ],
   "source": [
    "reddit.set_format('pandas')\n",
    "reddit=reddit['train'][:]\n",
    "reddit=Dataset.from_pandas(reddit)\n",
    "reddit = DatasetDict({'test':reddit})\n",
    "reddit"
   ]
  },
  {
   "cell_type": "code",
   "execution_count": 33,
   "id": "6f4f2bc3",
   "metadata": {},
   "outputs": [
    {
     "data": {
      "text/plain": [
       "DatasetDict({\n",
       "    test: Dataset({\n",
       "        features: ['Content', 'Label'],\n",
       "        num_rows: 2117\n",
       "    })\n",
       "})"
      ]
     },
     "execution_count": 33,
     "metadata": {},
     "output_type": "execute_result"
    }
   ],
   "source": [
    "reddit = reddit.remove_columns('Unnamed: 0')\n",
    "delete_null_rows(reddit)"
   ]
  },
  {
   "cell_type": "code",
   "execution_count": 37,
   "id": "54a3d981",
   "metadata": {},
   "outputs": [
    {
     "data": {
      "application/vnd.jupyter.widget-view+json": {
       "model_id": "",
       "version_major": 2,
       "version_minor": 0
      },
      "text/plain": [
       "Map:   0%|          | 0/2117 [00:00<?, ? examples/s]"
      ]
     },
     "metadata": {},
     "output_type": "display_data"
    },
    {
     "data": {
      "text/plain": [
       "DatasetDict({\n",
       "    test: Dataset({\n",
       "        features: ['Content', 'Label', 'input_ids', 'attention_mask'],\n",
       "        num_rows: 2117\n",
       "    })\n",
       "})"
      ]
     },
     "execution_count": 37,
     "metadata": {},
     "output_type": "execute_result"
    }
   ],
   "source": [
    "max_length = 30 #maximum length of reddit sequences\n",
    "\n",
    "tokenized_reddit = reddit.map(tokenize, batched=True)\n",
    "tokenized_reddit"
   ]
  },
  {
   "cell_type": "code",
   "execution_count": 38,
   "id": "144d65dc",
   "metadata": {},
   "outputs": [],
   "source": [
    "tokenized_reddit.set_format(\"torch\",columns=[\"input_ids\", \"attention_mask\", \"Label\"])\n",
    "reddit_dataloader = DataLoader(\n",
    "    tokenized_reddit[\"test\"], batch_size=16, collate_fn=data_collator\n",
    ")"
   ]
  },
  {
   "cell_type": "code",
   "execution_count": 39,
   "id": "827969f5",
   "metadata": {},
   "outputs": [
    {
     "data": {
      "application/vnd.jupyter.widget-view+json": {
       "model_id": "e2bccb5078ef4568b2fe1b78a721393a",
       "version_major": 2,
       "version_minor": 0
      },
      "text/plain": [
       "  0%|          | 0/133 [00:00<?, ?it/s]"
      ]
     },
     "metadata": {},
     "output_type": "display_data"
    },
    {
     "name": "stdout",
     "output_type": "stream",
     "text": [
      "{'f1': 0.36188811188811193}\n",
      "{'accuracy': 0.6551724137931034}\n",
      "{'precision': 0.29784172661870506}\n"
     ]
    }
   ],
   "source": [
    "model.eval()\n",
    "\n",
    "\n",
    "progress_bar_eval = tqdm(range(1 * len(reddit_dataloader)))\n",
    "\n",
    "\n",
    "for batch in reddit_dataloader:\n",
    "    batch = {k: v.to(device) for k, v in batch.items()}\n",
    "    with torch.no_grad():\n",
    "        outputs = model(**batch)\n",
    "\n",
    "    logits = outputs.logits\n",
    "    predictions_reddit = torch.argmax(logits, dim=-1)\n",
    "    metric1.add_batch(predictions=predictions_reddit, references=batch[\"Label\"])\n",
    "    metric2.add_batch(predictions=predictions_reddit, references=batch[\"Label\"])\n",
    "    metric3.add_batch(predictions=predictions_reddit, references=batch[\"Label\"])\n",
    "    progress_bar_eval.update(1)\n",
    "\n",
    "print(metric1.compute())\n",
    "print(metric2.compute())\n",
    "print(metric3.compute())"
   ]
  },
  {
   "cell_type": "code",
   "execution_count": 40,
   "id": "4a8cf09b",
   "metadata": {},
   "outputs": [],
   "source": [
    "reddit_predictions=[]\n",
    "reddit_true_labels=[]\n",
    "\n",
    "model.eval()\n",
    "with torch.no_grad():\n",
    "    for batch in reddit_dataloader:\n",
    "        batch = {k: v.to(device) for k, v in batch.items()}\n",
    "        outputs = model(**batch)\n",
    "\n",
    "        logits = outputs.logits\n",
    "        predictions_reddit = torch.argmax(logits, dim=-1)\n",
    "        true_labels = batch[\"Label\"]\n",
    "\n",
    "        reddit_predictions.extend(predictions_reddit.cpu().numpy())\n",
    "        reddit_true_labels.extend(true_labels.cpu().numpy())\n",
    "        #progress_bar_eval = tqdm(range(1 * len(twitter_dataloader)))\n",
    "\n",
    "\n",
    "# Convert the lists to NumPy arrays\n",
    "reddit_predictions = np.array(reddit_predictions)\n",
    "reddit_true_labels = np.array(reddit_true_labels)"
   ]
  },
  {
   "cell_type": "code",
   "execution_count": 41,
   "id": "36957954",
   "metadata": {},
   "outputs": [
    {
     "data": {
      "image/png": "[encoded data removed]",
      "text/plain": [
       "<Figure size 640x480 with 1 Axes>"
      ]
     },
     "metadata": {},
     "output_type": "display_data"
    }
   ],
   "source": [
    "fpr3, tpr3, thresholds = roc_curve(reddit_true_labels, reddit_predictions)\n",
    "roc_auc_reddit = roc_auc_score(reddit_true_labels, reddit_predictions)\n",
    "\n",
    "# Plot the ROC curve\n",
    "plt.figure()\n",
    "plt.plot(fpr3, tpr3, color='darkorange', lw=2, label='ROC curve (area = %0.2f)' % roc_auc_reddit)\n",
    "plt.plot([0, 1], [0, 1], color='navy', lw=2, linestyle='--')\n",
    "plt.xlim([0.0, 1.0])\n",
    "plt.ylim([0.0, 1.05])\n",
    "plt.xlabel('False Positive Rate')\n",
    "plt.ylabel('True Positive Rate')\n",
    "plt.title('Receiver Operating Characteristic (ROC) Curve- Reddit')\n",
    "plt.legend(loc='lower right')\n",
    "plt.show()"
   ]
  },
  {
   "cell_type": "markdown",
   "id": "6bb37e98",
   "metadata": {},
   "source": [
    "## Twitter test"
   ]
  },
  {
   "cell_type": "code",
   "execution_count": 42,
   "id": "d5a2a2bc",
   "metadata": {},
   "outputs": [
    {
     "data": {
      "text/plain": [
       "DatasetDict({\n",
       "    test: Dataset({\n",
       "        features: ['Content', 'Label'],\n",
       "        num_rows: 1118\n",
       "    })\n",
       "})"
      ]
     },
     "execution_count": 42,
     "metadata": {},
     "output_type": "execute_result"
    }
   ],
   "source": [
    "twitter.set_format('pandas')\n",
    "twitter=twitter['train'][:]\n",
    "twitter=Dataset.from_pandas(twitter)\n",
    "twitter = DatasetDict({'test':twitter})\n",
    "twitter = twitter.remove_columns('Unnamed: 0')\n",
    "delete_null_rows(twitter)"
   ]
  },
  {
   "cell_type": "code",
   "execution_count": 43,
   "id": "a6957913",
   "metadata": {},
   "outputs": [
    {
     "data": {
      "application/vnd.jupyter.widget-view+json": {
       "model_id": "",
       "version_major": 2,
       "version_minor": 0
      },
      "text/plain": [
       "Map:   0%|          | 0/1118 [00:00<?, ? examples/s]"
      ]
     },
     "metadata": {},
     "output_type": "display_data"
    }
   ],
   "source": [
    "max_length =120\n",
    "tokenized_twitter = twitter.map(tokenize, batched=True)\n"
   ]
  },
  {
   "cell_type": "code",
   "execution_count": 44,
   "id": "7c6daa4a",
   "metadata": {},
   "outputs": [],
   "source": [
    "tokenized_twitter.set_format(\"torch\",columns=[\"input_ids\", \"attention_mask\", \"Label\"])\n",
    "twitter_dataloader = DataLoader(\n",
    "    tokenized_twitter[\"test\"], batch_size=16, collate_fn=data_collator\n",
    ")"
   ]
  },
  {
   "cell_type": "code",
   "execution_count": 45,
   "id": "6e4df695",
   "metadata": {},
   "outputs": [
    {
     "data": {
      "application/vnd.jupyter.widget-view+json": {
       "model_id": "2619628bfc68443085c72e01e4bc1a54",
       "version_major": 2,
       "version_minor": 0
      },
      "text/plain": [
       "  0%|          | 0/70 [00:00<?, ?it/s]"
      ]
     },
     "metadata": {},
     "output_type": "display_data"
    },
    {
     "name": "stdout",
     "output_type": "stream",
     "text": [
      "{'f1': 0.746317512274959}\n",
      "{'accuracy': 0.8613595706618963}\n",
      "{'precision': 0.7015384615384616}\n"
     ]
    }
   ],
   "source": [
    "model.eval()\n",
    "\n",
    "\n",
    "progress_bar_eval = tqdm(range(1 * len(twitter_dataloader)))\n",
    "\n",
    "\n",
    "for batch in twitter_dataloader:\n",
    "    batch = {k: v.to(device) for k, v in batch.items()}\n",
    "    with torch.no_grad():\n",
    "        outputs = model(**batch)\n",
    "\n",
    "    logits = outputs.logits\n",
    "    predictions_twitter = torch.argmax(logits, dim=-1)\n",
    "    metric1.add_batch(predictions=predictions_twitter, references=batch[\"Label\"])\n",
    "    metric2.add_batch(predictions=predictions_twitter, references=batch[\"Label\"])\n",
    "    metric3.add_batch(predictions=predictions_twitter, references=batch[\"Label\"])\n",
    "    progress_bar_eval.update(1)\n",
    "\n",
    "print(metric1.compute())\n",
    "print(metric2.compute())\n",
    "print(metric3.compute())"
   ]
  },
  {
   "cell_type": "code",
   "execution_count": 46,
   "id": "788c04b3",
   "metadata": {},
   "outputs": [],
   "source": [
    "all_predictions=[]\n",
    "all_true_labels=[]\n",
    "\n",
    "model.eval()\n",
    "with torch.no_grad():\n",
    "    for batch in twitter_dataloader:\n",
    "        batch = {k: v.to(device) for k, v in batch.items()}\n",
    "        outputs = model(**batch)\n",
    "\n",
    "        logits = outputs.logits\n",
    "        predictions_twitter = torch.argmax(logits, dim=-1)\n",
    "        true_labels = batch[\"Label\"]\n",
    "\n",
    "        all_predictions.extend(predictions_twitter.cpu().numpy())\n",
    "        all_true_labels.extend(true_labels.cpu().numpy())\n",
    "        #progress_bar_eval = tqdm(range(1 * len(twitter_dataloader)))\n",
    "\n",
    "\n",
    "# Convert the lists to NumPy arrays\n",
    "all_predictions = np.array(all_predictions)\n",
    "all_true_labels = np.array(all_true_labels)"
   ]
  },
  {
   "cell_type": "code",
   "execution_count": 47,
   "id": "42a2537b",
   "metadata": {},
   "outputs": [
    {
     "data": {
      "image/png": "[encoded data removed]",
      "text/plain": [
       "<Figure size 640x480 with 1 Axes>"
      ]
     },
     "metadata": {},
     "output_type": "display_data"
    }
   ],
   "source": [
    "fpr1, tpr1, thresholds = roc_curve(all_true_labels, all_predictions)\n",
    "roc_auc = roc_auc_score(all_true_labels, all_predictions)\n",
    "\n",
    "# Plot the ROC curve\n",
    "plt.figure()\n",
    "plt.plot(fpr1, tpr1, color='darkorange', lw=2, label='ROC curve (area = %0.2f)' % roc_auc)\n",
    "plt.plot([0, 1], [0, 1], color='navy', lw=2, linestyle='--')\n",
    "plt.xlim([0.0, 1.0])\n",
    "plt.ylim([0.0, 1.05])\n",
    "plt.xlabel('False Positive Rate')\n",
    "plt.ylabel('True Positive Rate')\n",
    "plt.title('Receiver Operating Characteristic (ROC) Curve- Twitter')\n",
    "plt.legend(loc='lower right')\n",
    "plt.show()"
   ]
  },
  {
   "cell_type": "markdown",
   "id": "bc7567aa",
   "metadata": {},
   "source": [
    "## Test comparison Gab, Reddit and Twitter"
   ]
  },
  {
   "cell_type": "code",
   "execution_count": 49,
   "id": "08aa293a",
   "metadata": {},
   "outputs": [
    {
     "data": {
      "image/png": "[encoded data removed]",
      "text/plain": [
       "<Figure size 640x480 with 1 Axes>"
      ]
     },
     "metadata": {},
     "output_type": "display_data"
    }
   ],
   "source": [
    "plt.figure()\n",
    "plt.plot(fpr3, tpr3, color='red', lw=2, label='Reddit curve (area = %0.2f)' % roc_auc_reddit)\n",
    "plt.plot(fpr1, tpr1, color='green', lw=2, label='Twitter curve (area = %0.2f)' % roc_auc)\n",
    "plt.plot(fpr_g, tpr_g, color='darkorange', lw=2, label='Gab curve (area = %0.2f)' % roc_auc_gab)\n",
    "\n",
    "plt.plot([0, 1], [0, 1], color='navy', lw=2, linestyle='--')\n",
    "plt.xlim([0.0, 1.0])\n",
    "plt.ylim([0.0, 1.05])\n",
    "plt.xlabel('False Positive Rate')\n",
    "plt.ylabel('True Positive Rate')\n",
    "plt.title('Receiver Operating Characteristic (ROC) Curve- comparison')\n",
    "plt.legend(loc='lower right')\n",
    "plt.show()"
   ]
  },
  {
   "cell_type": "markdown",
   "id": "94e396fe",
   "metadata": {},
   "source": [
    "## Gab + Reddit  \n",
    "Gab_reddit_test "
   ]
  },
  {
   "cell_type": "code",
   "execution_count": 12,
   "id": "e849eba7",
   "metadata": {},
   "outputs": [
    {
     "name": "stderr",
     "output_type": "stream",
     "text": [
      "Found cached dataset csv (/home/ec22022/.cache/huggingface/datasets/csv/default-b12122af41594760/0.0.0/eea64c71ca8b46dd3f537ed218fc9bf495d5707789152eb2764f5c78fa66d59d)\n"
     ]
    },
    {
     "data": {
      "application/vnd.jupyter.widget-view+json": {
       "model_id": "31808b4ab4b7424cb919ba72bc05f9cf",
       "version_major": 2,
       "version_minor": 0
      },
      "text/plain": [
       "  0%|          | 0/1 [00:00<?, ?it/s]"
      ]
     },
     "metadata": {},
     "output_type": "display_data"
    },
    {
     "data": {
      "text/plain": [
       "DatasetDict({\n",
       "    train: Dataset({\n",
       "        features: ['Content', 'Label'],\n",
       "        num_rows: 8910\n",
       "    })\n",
       "})"
      ]
     },
     "execution_count": 12,
     "metadata": {},
     "output_type": "execute_result"
    }
   ],
   "source": [
    "gr = load_dataset('csv',data_files = 'gabb_reddit_test.csv')\n",
    "gr"
   ]
  },
  {
   "cell_type": "code",
   "execution_count": 13,
   "id": "ec2ec8fe",
   "metadata": {},
   "outputs": [
    {
     "data": {
      "text/plain": [
       "DatasetDict({\n",
       "    train: Dataset({\n",
       "        features: ['Content', 'Label'],\n",
       "        num_rows: 8822\n",
       "    })\n",
       "})"
      ]
     },
     "execution_count": 13,
     "metadata": {},
     "output_type": "execute_result"
    }
   ],
   "source": [
    "delete_null_rows(gr)"
   ]
  },
  {
   "cell_type": "code",
   "execution_count": 14,
   "id": "595752c1",
   "metadata": {},
   "outputs": [],
   "source": [
    "gr.set_format('pandas')\n",
    "gabb_reddit=gr['train'][:]\n",
    "gabb_reddit=Dataset.from_pandas(gabb_reddit)"
   ]
  },
  {
   "cell_type": "code",
   "execution_count": 15,
   "id": "717df293",
   "metadata": {},
   "outputs": [],
   "source": [
    "gabb_reddit = DatasetDict({\n",
    "    'test': gabb_reddit\n",
    "    })"
   ]
  },
  {
   "cell_type": "code",
   "execution_count": 16,
   "id": "dedcaf06",
   "metadata": {},
   "outputs": [
    {
     "data": {
      "application/vnd.jupyter.widget-view+json": {
       "model_id": "",
       "version_major": 2,
       "version_minor": 0
      },
      "text/plain": [
       "Map:   0%|          | 0/8822 [00:00<?, ? examples/s]"
      ]
     },
     "metadata": {},
     "output_type": "display_data"
    }
   ],
   "source": [
    "max_length = 100\n",
    "tokens_gr = gabb_reddit.map(tokenize, batched = True)"
   ]
  },
  {
   "cell_type": "code",
   "execution_count": 18,
   "id": "8f287072",
   "metadata": {},
   "outputs": [],
   "source": [
    "from torch.utils.data import DataLoader\n",
    "tokens_gr.set_format(\"torch\",columns=[\"input_ids\", \"attention_mask\", \"Label\"])\n",
    "\n",
    "gr_dataloader = DataLoader(\n",
    "    tokens_gr[\"test\"], batch_size=16, collate_fn=data_collator\n",
    ")"
   ]
  },
  {
   "cell_type": "code",
   "execution_count": 19,
   "id": "bfc1da88",
   "metadata": {},
   "outputs": [
    {
     "data": {
      "application/vnd.jupyter.widget-view+json": {
       "model_id": "af414cf6692243b5a1e333586f934894",
       "version_major": 2,
       "version_minor": 0
      },
      "text/plain": [
       "  0%|          | 0/552 [00:00<?, ?it/s]"
      ]
     },
     "metadata": {},
     "output_type": "display_data"
    },
    {
     "name": "stderr",
     "output_type": "stream",
     "text": [
      "You're using a RobertaTokenizerFast tokenizer. Please note that with a fast tokenizer, using the `__call__` method is faster than using a method to encode the text followed by a call to the `pad` method to get a padded encoding.\n"
     ]
    },
    {
     "name": "stdout",
     "output_type": "stream",
     "text": [
      "{'f1': 0.785550165943324}\n",
      "{'accuracy': 0.8095669916118794}\n",
      "{'precision': 0.7554628038301007}\n"
     ]
    }
   ],
   "source": [
    "\n",
    "\n",
    "model.eval()\n",
    "\n",
    "\n",
    "progress_bar_eval = tqdm(range(1 * len(gr_dataloader)))\n",
    "\n",
    "\n",
    "for batch in gr_dataloader:\n",
    "    batch = {k: v.to(device) for k, v in batch.items()}\n",
    "    with torch.no_grad():\n",
    "        outputs = model(**batch)\n",
    "\n",
    "    logits = outputs.logits\n",
    "    predictions_gr= torch.argmax(logits, dim=-1)\n",
    "    metric1.add_batch(predictions=predictions_gr, references=batch[\"Label\"])\n",
    "    metric2.add_batch(predictions=predictions_gr, references=batch[\"Label\"])\n",
    "    metric3.add_batch(predictions=predictions_gr, references=batch[\"Label\"])\n",
    "    progress_bar_eval.update(1)\n",
    "\n",
    "print(metric1.compute())\n",
    "print(metric2.compute())\n",
    "print(metric3.compute())"
   ]
  },
  {
   "cell_type": "code",
   "execution_count": null,
   "id": "07c3139e",
   "metadata": {},
   "outputs": [],
   "source": []
  }
 ],
 "metadata": {
  "kernelspec": {
   "display_name": "base",
   "language": "python",
   "name": "python3"
  },
  "language_info": {
   "codemirror_mode": {
    "name": "ipython",
    "version": 3
   },
   "file_extension": ".py",
   "mimetype": "text/x-python",
   "name": "python",
   "nbconvert_exporter": "python",
   "pygments_lexer": "ipython3",
   "version": "3.9.12 (main, Apr  5 2022, 01:53:17) \n[Clang 12.0.0 ]"
  },
  "vscode": {
   "interpreter": {
    "hash": "40d3a090f54c6569ab1632332b64b2c03c39dcf918b08424e98f38b5ae0af88f"
   }
  }
 },
 "nbformat": 4,
 "nbformat_minor": 5
}
